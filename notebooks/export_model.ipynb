{
 "cells": [
  {
   "cell_type": "code",
   "execution_count": null,
   "id": "70f76b36",
   "metadata": {},
   "outputs": [],
   "source": [
    "%cd ../"
   ]
  },
  {
   "cell_type": "code",
   "execution_count": null,
   "id": "8ac584b7",
   "metadata": {},
   "outputs": [],
   "source": [
    "from pathlib import Path\n",
    "\n",
    "import requests\n",
    "import torch\n",
    "from PIL import Image\n",
    "from transformers import CLIPModel, CLIPProcessor, CLIPTokenizerFast"
   ]
  },
  {
   "cell_type": "code",
   "execution_count": null,
   "id": "176750af",
   "metadata": {},
   "outputs": [],
   "source": [
    "model_name = \"openai/clip-vit-base-patch32\"\n",
    "tag = \"July20\"\n",
    "device = \"mps\"\n",
    "name_saved = \"clip\"\n",
    "\n",
    "path_saved_model = Path(\"res\") / f\"{name_saved}_{tag}.pt\"\n",
    "path_saved_model.parent.mkdir(exist_ok=True, parents=True)"
   ]
  },
  {
   "cell_type": "markdown",
   "id": "ab52d052",
   "metadata": {},
   "source": [
    "# Save model using `torchscript`"
   ]
  },
  {
   "cell_type": "code",
   "execution_count": null,
   "id": "2cf1b3b1",
   "metadata": {},
   "outputs": [],
   "source": [
    "model = CLIPModel.from_pretrained(model_name, torchscript=True, return_dict=False).to(dtype=torch.float16, device=device)\n",
    "processor = CLIPProcessor.from_pretrained(model_name)\n",
    "tokenizer = CLIPTokenizerFast.from_pretrained(model_name)"
   ]
  },
  {
   "cell_type": "code",
   "execution_count": null,
   "id": "07bd75d9",
   "metadata": {},
   "outputs": [],
   "source": [
    "# Get sample text and image\n",
    "sample_text = \"this is a cat\"\n",
    "out_sample_text = tokenizer(sample_text, return_tensors=\"pt\", padding=\"max_length\", truncation=True)\n",
    "\n",
    "url = \"http://images.cocodataset.org/val2017/000000039769.jpg\"\n",
    "sample_image = Image.open(requests.get(url, stream=True).raw)\n",
    "out_sample_image = processor(images=sample_image, return_tensors=\"pt\")"
   ]
  },
  {
   "cell_type": "code",
   "execution_count": null,
   "id": "4ca95ba5",
   "metadata": {},
   "outputs": [],
   "source": [
    "converted = torch.jit.trace_module(\n",
    "    model,\n",
    "    {\n",
    "        'get_text_features': [out_sample_text['input_ids'].to(device=\"mps\"), out_sample_text['attention_mask'].to(device=\"mps\")],\n",
    "        'get_image_features': [out_sample_image['pixel_values'].to(device=\"mps\", dtype=torch.bfloat16)]\n",
    "    }\n",
    ")\n",
    "torch.jit.save(converted, path_saved_model)"
   ]
  },
  {
   "cell_type": "markdown",
   "id": "5325e1cf",
   "metadata": {},
   "source": [
    "## Test loading the model and doing inference"
   ]
  },
  {
   "cell_type": "code",
   "execution_count": null,
   "id": "73da4776",
   "metadata": {},
   "outputs": [],
   "source": [
    "loaded_model = torch.jit.load(path_saved_model, map_location=\"cpu\").to(dtype=torch.float16, device=\"mps\")\n",
    "loaded_model.eval()"
   ]
  },
  {
   "cell_type": "code",
   "execution_count": null,
   "id": "7d7b0e7d",
   "metadata": {},
   "outputs": [],
   "source": [
    "text_embd = loaded_model.get_text_features(\n",
    "    out_sample_text['input_ids'].to(\"mps\"),\n",
    "    out_sample_text['attention_mask'].to(\"mps\")\n",
    ")\n",
    "img_embd = loaded_model.get_image_features(out_sample_image['pixel_values'].to(\"mps\"))"
   ]
  },
  {
   "cell_type": "code",
   "execution_count": null,
   "id": "c3c69fbe",
   "metadata": {},
   "outputs": [],
   "source": [
    "text_embd"
   ]
  },
  {
   "cell_type": "code",
   "execution_count": null,
   "id": "9167d26c",
   "metadata": {},
   "outputs": [],
   "source": [
    "img_embd"
   ]
  }
 ],
 "metadata": {
  "kernelspec": {
   "display_name": ".venv",
   "language": "python",
   "name": "python3"
  },
  "language_info": {
   "codemirror_mode": {
    "name": "ipython",
    "version": 3
   },
   "file_extension": ".py",
   "mimetype": "text/x-python",
   "name": "python",
   "nbconvert_exporter": "python",
   "pygments_lexer": "ipython3",
   "version": "3.11.13"
  }
 },
 "nbformat": 4,
 "nbformat_minor": 5
}
